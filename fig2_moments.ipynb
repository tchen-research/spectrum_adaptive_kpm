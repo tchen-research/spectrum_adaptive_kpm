{
 "cells": [
  {
   "cell_type": "code",
   "execution_count": 1,
   "id": "f5b53893-d38c-44e4-9049-390137fbc93a",
   "metadata": {
    "execution": {
     "iopub.execute_input": "2023-08-29T04:45:22.625796Z",
     "iopub.status.busy": "2023-08-29T04:45:22.625262Z",
     "iopub.status.idle": "2023-08-29T04:45:22.985944Z",
     "shell.execute_reply": "2023-08-29T04:45:22.985492Z"
    }
   },
   "outputs": [],
   "source": [
    "import numpy as np\n",
    "import scipy as sp\n",
    "from scipy import io,integrate,sparse\n",
    "import matplotlib.pyplot as plt\n",
    "import matplotlib as mpl\n",
    "from matplotlib.lines import Line2D\n",
    "import matplotlib.patches as mpatches\n",
    "from mpl_toolkits.axes_grid1.inset_locator import inset_axes\n",
    "from mpl_toolkits.axes_grid1.inset_locator import mark_inset\n",
    "\n",
    "from kpm_bin import *\n",
    "\n",
    "from IPython.display import clear_output\n",
    "np.set_printoptions(linewidth=300)\n",
    "%load_ext autoreload\n",
    "\n",
    "%autoreload 2\n",
    "\n",
    "## TeX preamble\n",
    "preamble = r\"\"\"\n",
    "\\usepackage[no-math]{fontspec}\n",
    "\\setmainfont[]{Helvetica Condensed}\n",
    "\n",
    "\\usepackage{amsmath,amssymb,amsthm}\n",
    "\\usepackage{mathastext}\n",
    "\"\"\"\n",
    "\n",
    "mpl.use(\"pgf\")\n",
    "\n",
    "mpl.rcParams.update({\n",
    "    \"pgf.texsystem\": \"lualatex\",\n",
    "    'font.family': 'serif',\n",
    "    'font.size' : 8,\n",
    "    'text.usetex': True,\n",
    "    'pgf.rcfonts': False,\n",
    "    'pgf.preamble': preamble,\n",
    "})"
   ]
  },
  {
   "cell_type": "code",
   "execution_count": 2,
   "id": "a578dd7b-8693-487d-8550-e4203da7652b",
   "metadata": {
    "execution": {
     "iopub.execute_input": "2023-08-29T04:45:22.988039Z",
     "iopub.status.busy": "2023-08-29T04:45:22.987849Z",
     "iopub.status.idle": "2023-08-29T04:45:22.996113Z",
     "shell.execute_reply": "2023-08-29T04:45:22.995776Z"
    }
   },
   "outputs": [],
   "source": [
    "N = 20\n",
    "s = 1/2\n",
    "M = int(2*s+1)\n",
    "\n",
    "d = M**N\n",
    "\n",
    "J_t = np.zeros((N,N))\n",
    "for i in range(N):\n",
    "    for j in range(N):\n",
    "        if np.abs(i-j)==1:\n",
    "            J_t[i,j] = 1\n",
    "            \n",
    "J = 1\n",
    "h = 12"
   ]
  },
  {
   "cell_type": "code",
   "execution_count": 3,
   "id": "71fc7d93-5d05-4787-9dd9-fe420f1ef3ae",
   "metadata": {
    "execution": {
     "iopub.execute_input": "2023-08-29T04:45:22.998232Z",
     "iopub.status.busy": "2023-08-29T04:45:22.997961Z",
     "iopub.status.idle": "2023-08-29T04:45:27.437884Z",
     "shell.execute_reply": "2023-08-29T04:45:27.437174Z"
    }
   },
   "outputs": [],
   "source": [
    "H = get_hamiltonian((J/4)*J_t,(J/4)*J_t,0*J_t,h/2,s)"
   ]
  },
  {
   "cell_type": "code",
   "execution_count": 4,
   "id": "43d2c646-b9d3-4623-ba7d-e0ec4f7dcab9",
   "metadata": {
    "execution": {
     "iopub.execute_input": "2023-08-29T04:45:27.439952Z",
     "iopub.status.busy": "2023-08-29T04:45:27.439831Z",
     "iopub.status.idle": "2023-08-29T04:45:30.557447Z",
     "shell.execute_reply": "2023-08-29T04:45:30.556981Z"
    }
   },
   "outputs": [],
   "source": [
    "Evs = get_solvable_density_EVs(h,J,N)"
   ]
  },
  {
   "cell_type": "code",
   "execution_count": 5,
   "id": "f68c7e65-a845-4688-8f14-c8eeeaa62f8a",
   "metadata": {
    "execution": {
     "iopub.execute_input": "2023-08-29T04:45:30.559532Z",
     "iopub.status.busy": "2023-08-29T04:45:30.559409Z",
     "iopub.status.idle": "2023-08-29T04:45:30.566890Z",
     "shell.execute_reply": "2023-08-29T04:45:30.566588Z"
    }
   },
   "outputs": [],
   "source": [
    "Emin_true = Evs[0]\n",
    "Emax_true = Evs[-1]"
   ]
  },
  {
   "cell_type": "code",
   "execution_count": 6,
   "id": "fa71ca5c-5ed3-4394-a294-abee54d690c0",
   "metadata": {
    "execution": {
     "iopub.execute_input": "2023-08-29T04:45:30.568694Z",
     "iopub.status.busy": "2023-08-29T04:45:30.568530Z",
     "iopub.status.idle": "2023-08-29T04:46:23.297588Z",
     "shell.execute_reply": "2023-08-29T04:46:23.297180Z"
    }
   },
   "outputs": [],
   "source": [
    "k = 250\n",
    "\n",
    "np.random.seed(0)\n",
    "v = np.random.randn(d)\n",
    "v /= np.linalg.norm(v)\n",
    "\n",
    "Q,(α,β) = lanczos_reorth(H,v,k,reorth=False,returnQ=True)\n",
    "(α_ro,β_ro) = lanczos_reorth(H,v,k)"
   ]
  },
  {
   "cell_type": "code",
   "execution_count": 7,
   "id": "8db36bb4-cddb-4ffa-a4dd-a8abaee26539",
   "metadata": {
    "execution": {
     "iopub.execute_input": "2023-08-29T04:46:23.299826Z",
     "iopub.status.busy": "2023-08-29T04:46:23.299644Z",
     "iopub.status.idle": "2023-08-29T04:46:23.312580Z",
     "shell.execute_reply": "2023-08-29T04:46:23.312252Z"
    }
   },
   "outputs": [],
   "source": [
    "Hk = np.diag(β,1) + np.diag(β,-1) + np.diag(np.append(α,0))\n",
    "e0 = np.zeros(k+1)\n",
    "e0[0] = 1\n",
    "\n",
    "Emin,Emax = Emin_true,Emax_true\n",
    "μ = get_cheb_moments(Hk,e0,k,Emin,Emax)\n",
    "#(γ,δ) = get_chebT_recurrence(2*k,Emin,Emax)\n",
    "#μ = get_moments(Hk,e0,2*k,γ,δ)"
   ]
  },
  {
   "cell_type": "code",
   "execution_count": 8,
   "id": "c061e112-ffb6-45a4-9e5f-c199293ff217",
   "metadata": {
    "execution": {
     "iopub.execute_input": "2023-08-29T04:46:23.314591Z",
     "iopub.status.busy": "2023-08-29T04:46:23.314315Z",
     "iopub.status.idle": "2023-08-29T04:46:27.159349Z",
     "shell.execute_reply": "2023-08-29T04:46:27.158928Z"
    }
   },
   "outputs": [],
   "source": [
    "μT = get_cheb_moments(H,v,k,Emin,Emax) #μT = get_moments(H,v,2*k,γ,δ)"
   ]
  },
  {
   "cell_type": "code",
   "execution_count": 9,
   "id": "bca18952-eaaa-4fcc-a39e-ffe845e1c4cc",
   "metadata": {
    "execution": {
     "iopub.execute_input": "2023-08-29T04:46:27.161773Z",
     "iopub.status.busy": "2023-08-29T04:46:27.161640Z",
     "iopub.status.idle": "2023-08-29T04:46:28.088854Z",
     "shell.execute_reply": "2023-08-29T04:46:28.088446Z"
    }
   },
   "outputs": [],
   "source": [
    "orth = np.full(k,np.nan)\n",
    "\n",
    "QTQI = Q.T@Q - np.diag(np.diag(Q.T@Q))\n",
    "for i in range(k):\n",
    "    orth[i] = np.max(np.abs(QTQI[:i+1,:i+1]))"
   ]
  },
  {
   "cell_type": "code",
   "execution_count": 10,
   "id": "69e81f64-def5-43a4-9e82-cd69f3f647d9",
   "metadata": {
    "execution": {
     "iopub.execute_input": "2023-08-29T04:46:28.090930Z",
     "iopub.status.busy": "2023-08-29T04:46:28.090817Z",
     "iopub.status.idle": "2023-08-29T04:46:31.278910Z",
     "shell.execute_reply": "2023-08-29T04:46:31.278443Z"
    }
   },
   "outputs": [],
   "source": [
    "styles = [{'color':plt.cm.magma(.85),'lw':1,'alpha':1},\\\n",
    "          {'color':plt.cm.magma(.5),'lw':1,'alpha':1},\\\n",
    "          {'color':plt.cm.magma(.12),'lw':1,'alpha':1}]\n",
    "\n",
    "fig,axs = plt.subplots(1,2,figsize=(6,3),sharey=True)\n",
    "plt.subplots_adjust(hspace=.3,bottom=.18,top=.9)\n",
    "\n",
    "# fig,axs = plt.subplots(1,2,figsize=(12,3))\n",
    "# plt.subplots_adjust(wspace=.3,bottom=.18,top=.9)\n",
    "\n",
    "axs[1].plot(orth,**styles[0])\n",
    "axs[1].plot(np.abs(α-α_ro),**styles[1])\n",
    "axs[1].plot(np.abs(β-β_ro),**styles[2])\n",
    "\n",
    "axs[1].set_yscale('log')\n",
    "\n",
    "axs[0].plot(np.abs(μ-μT),**styles[2])\n",
    "\n",
    "\n",
    "axs[0].set_xticks([0,100,200,300,400,500])\n",
    "axs[1].set_xticks([0,50,100,150,200,250])\n",
    "\n",
    "axs[1].set_xlabel('index \\emph{n}')\n",
    "axs[1].set_ylabel('recurrence coefficient error')\n",
    "\n",
    "axs[0].set_xlabel('moment degree \\emph{n}')\n",
    "axs[0].set_ylabel('moment error')\n",
    "\n",
    "axs[0].set_yscale('log')\n",
    "\n",
    "axs[0].set_ylim(1e-16,1e2)\n",
    "axs[1].set_ylim(1e-16,1e2)\n",
    "\n",
    "plt.savefig('imgs/moments_err.pdf')"
   ]
  },
  {
   "cell_type": "code",
   "execution_count": null,
   "id": "99a530cc-ee0a-4471-9625-eef088871040",
   "metadata": {},
   "outputs": [],
   "source": []
  }
 ],
 "metadata": {
  "kernelspec": {
   "display_name": "Python 3 (ipykernel)",
   "language": "python",
   "name": "python3"
  },
  "language_info": {
   "codemirror_mode": {
    "name": "ipython",
    "version": 3
   },
   "file_extension": ".py",
   "mimetype": "text/x-python",
   "name": "python",
   "nbconvert_exporter": "python",
   "pygments_lexer": "ipython3",
   "version": "3.10.9"
  }
 },
 "nbformat": 4,
 "nbformat_minor": 5
}
