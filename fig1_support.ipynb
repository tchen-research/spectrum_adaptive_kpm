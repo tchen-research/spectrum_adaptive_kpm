{
 "cells": [
  {
   "cell_type": "code",
   "execution_count": 1,
   "id": "f5b53893-d38c-44e4-9049-390137fbc93a",
   "metadata": {
    "execution": {
     "iopub.execute_input": "2023-08-29T04:45:01.014428Z",
     "iopub.status.busy": "2023-08-29T04:45:01.014081Z",
     "iopub.status.idle": "2023-08-29T04:45:01.391684Z",
     "shell.execute_reply": "2023-08-29T04:45:01.391073Z"
    }
   },
   "outputs": [],
   "source": [
    "import numpy as np\n",
    "import scipy as sp\n",
    "from scipy import io,integrate,sparse\n",
    "import matplotlib.pyplot as plt\n",
    "import matplotlib as mpl\n",
    "from matplotlib.lines import Line2D\n",
    "import matplotlib.patches as mpatches\n",
    "from mpl_toolkits.axes_grid1.inset_locator import inset_axes\n",
    "from mpl_toolkits.axes_grid1.inset_locator import mark_inset\n",
    "\n",
    "from kpm_bin import *\n",
    "\n",
    "from IPython.display import clear_output\n",
    "np.set_printoptions(linewidth=300)\n",
    "%load_ext autoreload\n",
    "\n",
    "%autoreload 2\n",
    "\n",
    "## TeX preamble\n",
    "preamble = r\"\"\"\n",
    "\\usepackage[no-math]{fontspec}\n",
    "\\setmainfont[]{Helvetica Condensed}\n",
    "\n",
    "\\usepackage{amsmath,amssymb,amsthm}\n",
    "\\usepackage{mathastext}\n",
    "\"\"\"\n",
    "\n",
    "mpl.use(\"pgf\")\n",
    "\n",
    "mpl.rcParams.update({\n",
    "    \"pgf.texsystem\": \"lualatex\",\n",
    "    'font.family': 'serif',\n",
    "    'font.size' : 8,\n",
    "    'text.usetex': True,\n",
    "    'pgf.rcfonts': False,\n",
    "    'pgf.preamble': preamble,\n",
    "})"
   ]
  },
  {
   "cell_type": "code",
   "execution_count": 2,
   "id": "a578dd7b-8693-487d-8550-e4203da7652b",
   "metadata": {
    "execution": {
     "iopub.execute_input": "2023-08-29T04:45:01.393906Z",
     "iopub.status.busy": "2023-08-29T04:45:01.393725Z",
     "iopub.status.idle": "2023-08-29T04:45:01.402652Z",
     "shell.execute_reply": "2023-08-29T04:45:01.402306Z"
    }
   },
   "outputs": [],
   "source": [
    "N = 20\n",
    "s = 1/2\n",
    "M = int(2*s+1)\n",
    "\n",
    "d = M**N\n",
    "\n",
    "J_t = np.zeros((N,N))\n",
    "for i in range(N):\n",
    "    for j in range(N):\n",
    "        if np.abs(i-j)==1:\n",
    "            J_t[i,j] = 1\n",
    "            \n",
    "J = 1\n",
    "h = 12"
   ]
  },
  {
   "cell_type": "code",
   "execution_count": 3,
   "id": "71fc7d93-5d05-4787-9dd9-fe420f1ef3ae",
   "metadata": {
    "execution": {
     "iopub.execute_input": "2023-08-29T04:45:01.404650Z",
     "iopub.status.busy": "2023-08-29T04:45:01.404523Z",
     "iopub.status.idle": "2023-08-29T04:45:05.767520Z",
     "shell.execute_reply": "2023-08-29T04:45:05.767018Z"
    }
   },
   "outputs": [],
   "source": [
    "H = get_hamiltonian((J/4)*J_t,(J/4)*J_t,0*J_t,h/2,s)"
   ]
  },
  {
   "cell_type": "code",
   "execution_count": 4,
   "id": "43d2c646-b9d3-4623-ba7d-e0ec4f7dcab9",
   "metadata": {
    "execution": {
     "iopub.execute_input": "2023-08-29T04:45:05.769642Z",
     "iopub.status.busy": "2023-08-29T04:45:05.769510Z",
     "iopub.status.idle": "2023-08-29T04:45:08.797312Z",
     "shell.execute_reply": "2023-08-29T04:45:08.796844Z"
    }
   },
   "outputs": [],
   "source": [
    "Evs = get_solvable_density_EVs(h,J,N)"
   ]
  },
  {
   "cell_type": "code",
   "execution_count": 5,
   "id": "f68c7e65-a845-4688-8f14-c8eeeaa62f8a",
   "metadata": {
    "execution": {
     "iopub.execute_input": "2023-08-29T04:45:08.799538Z",
     "iopub.status.busy": "2023-08-29T04:45:08.799354Z",
     "iopub.status.idle": "2023-08-29T04:45:08.807329Z",
     "shell.execute_reply": "2023-08-29T04:45:08.806930Z"
    }
   },
   "outputs": [],
   "source": [
    "Emin_true = Evs[0]\n",
    "Emax_true = Evs[-1]"
   ]
  },
  {
   "cell_type": "code",
   "execution_count": 6,
   "id": "047b3d6e-478f-4177-87dd-3bb223092487",
   "metadata": {
    "execution": {
     "iopub.execute_input": "2023-08-29T04:45:08.809191Z",
     "iopub.status.busy": "2023-08-29T04:45:08.808992Z",
     "iopub.status.idle": "2023-08-29T04:45:12.791582Z",
     "shell.execute_reply": "2023-08-29T04:45:12.791080Z"
    }
   },
   "outputs": [
    {
     "name": "stdout",
     "output_type": "stream",
     "text": [
      "random sample 0\n"
     ]
    }
   ],
   "source": [
    "m = 1\n",
    "k = 250\n",
    "np.random.seed(0)\n",
    "\n",
    "αβs = []\n",
    "for _ in range(m):\n",
    "    print(f'random sample {_}')\n",
    "    clear_output(wait=True)\n",
    "\n",
    "    v = np.random.randn(d)\n",
    "    v /= np.linalg.norm(v)\n",
    "\n",
    "    (α,β) = lanczos(H,v,k)\n",
    "    αβs.append((α,β))"
   ]
  },
  {
   "cell_type": "code",
   "execution_count": 7,
   "id": "e978b090-9638-4444-b524-795af3e30212",
   "metadata": {
    "execution": {
     "iopub.execute_input": "2023-08-29T04:45:12.794286Z",
     "iopub.status.busy": "2023-08-29T04:45:12.793857Z",
     "iopub.status.idle": "2023-08-29T04:45:18.526469Z",
     "shell.execute_reply": "2023-08-29T04:45:18.526092Z"
    }
   },
   "outputs": [],
   "source": [
    "k_eff = min(500,2*k)\n",
    "\n",
    "ϵs = [-7e-4,.5,0]\n",
    "\n",
    "ϵ = .015\n",
    "Emin = Emin_true - ϵ*(Emax_true - Emin_true)\n",
    "Emax = Emax_true + ϵ*(Emax_true - Emin_true)\n",
    "\n",
    "EE = np.linspace(Emin,Emax,1000)\n",
    "\n",
    "\n",
    "fig,axs = plt.subplots(1,1,figsize=(12,3))\n",
    "plt.subplots_adjust(bottom=.18,top=.9)\n",
    "\n",
    "for i,ϵ in enumerate(ϵs):\n",
    "    Emin = Emin_true - ϵ*(Emax_true - Emin_true)\n",
    "    Emax = Emax_true + ϵ*(Emax_true - Emin_true)\n",
    "\n",
    "    μs = []\n",
    "    for (α,β) in αβs:\n",
    "\n",
    "        σ = get_chebT_density(Emin,Emax)\n",
    "        (γ,δ) = get_chebT_recurrence(2*k,Emin,Emax)\n",
    "\n",
    "        Hk = np.diag(β,1) + np.diag(β,-1) + np.diag(np.append(α,0))\n",
    "        e0 = np.zeros(k+1)\n",
    "        e0[0] = 1\n",
    "    \n",
    "        μ = get_moments(Hk,e0,2*k,γ,δ)\n",
    "\n",
    "        μs.append(μ)\n",
    "\n",
    "\n",
    "    # for μ in μs:\n",
    "    #     dρdσ = get_op_expansion(μ,γ,δ)\n",
    "    #     ρ_KPM = lambda E: σ(E)*dρdσ(E)\n",
    "\n",
    "    #     plt.plot(EE,ρ_KPM(EE),lw=.5,c='black',alpha=.2)\n",
    "\n",
    "   \n",
    "    g=jackson_weights(k_eff)\n",
    "    \n",
    "    dρdσ = get_op_expansion(g*np.mean(μs,axis=0)[:k_eff],γ,δ)\n",
    "    ρ_KPM = lambda E: σ(E)*dρdσ(E)\n",
    "\n",
    "    styles = [{'color':plt.cm.magma(.85),'lw':1,'alpha':1},\\\n",
    "              {'color':plt.cm.magma(.5),'lw':1,'alpha':1},\\\n",
    "              {'color':plt.cm.magma(.12),'lw':1,'alpha':1}]\n",
    "    \n",
    "    plt.plot(EE,ρ_KPM(EE),**styles[i],label=rf'$\\epsilon={ϵ}$')\n",
    "\n",
    "plt.hist(Evs,300,density=True,histtype='stepfilled',lw=.5,ec='black',fc='#dddddd',label='true DOS');\n",
    "\n",
    "plt.xlabel(r'energy \\emph{E}')\n",
    "plt.ylabel('density of states')\n",
    "\n",
    "#plt.legend(loc='upper right')\n",
    "#plt.yscale('log')\n",
    "plt.ylim(-.001,.03)\n",
    "\n",
    "plt.savefig('imgs/support.pdf')"
   ]
  },
  {
   "cell_type": "code",
   "execution_count": null,
   "id": "6d7571ab-3d7f-486e-bf33-a72d21e1e3b8",
   "metadata": {},
   "outputs": [],
   "source": []
  }
 ],
 "metadata": {
  "kernelspec": {
   "display_name": "Python 3 (ipykernel)",
   "language": "python",
   "name": "python3"
  },
  "language_info": {
   "codemirror_mode": {
    "name": "ipython",
    "version": 3
   },
   "file_extension": ".py",
   "mimetype": "text/x-python",
   "name": "python",
   "nbconvert_exporter": "python",
   "pygments_lexer": "ipython3",
   "version": "3.10.9"
  }
 },
 "nbformat": 4,
 "nbformat_minor": 5
}
