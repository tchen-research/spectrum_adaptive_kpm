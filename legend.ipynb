{
 "cells": [
  {
   "cell_type": "code",
   "execution_count": 3,
   "id": "aad2ed17-1c49-46bd-b116-90e00cf29695",
   "metadata": {},
   "outputs": [],
   "source": [
    "import numpy as np\n",
    "import matplotlib.pyplot as plt\n",
    "import matplotlib as mpl\n",
    "from matplotlib.lines import Line2D\n",
    "from matplotlib.patches import Rectangle\n",
    "\n",
    "from IPython.display import clear_output\n",
    "%load_ext autoreload\n",
    "%autoreload 2\n"
   ]
  },
  {
   "cell_type": "code",
   "execution_count": 4,
   "id": "ccf4abdb-41fe-40fd-b05d-003dfb9c2c5c",
   "metadata": {},
   "outputs": [],
   "source": [
    "styles = [{'color':plt.cm.magma(.85),'lw':1,'alpha':1},\\\n",
    "          {'color':plt.cm.magma(.5),'lw':1,'alpha':1},\\\n",
    "          {'color':plt.cm.magma(.12),'lw':1}]\n"
   ]
  },
  {
   "cell_type": "code",
   "execution_count": 5,
   "id": "712e3904-ab81-4189-afa4-9e3f51817ff2",
   "metadata": {},
   "outputs": [
    {
     "data": {
      "image/png": "[encoded data removed]",
      "text/plain": [
       "<Figure size 40x8 with 1 Axes>"
      ]
     },
     "metadata": {},
     "output_type": "display_data"
    },
    {
     "data": {
      "image/png": "[encoded data removed]",
      "text/plain": [
       "<Figure size 40x8 with 1 Axes>"
      ]
     },
     "metadata": {},
     "output_type": "display_data"
    },
    {
     "data": {
      "image/png": "[encoded data removed]",
      "text/plain": [
       "<Figure size 40x8 with 1 Axes>"
      ]
     },
     "metadata": {},
     "output_type": "display_data"
    }
   ],
   "source": [
    "for i in range(3):\n",
    "    fig = plt.figure(figsize=(.4,.08))\n",
    "    ax = fig.add_axes([.1,0,.8,1])\n",
    "    \n",
    "    ax.plot([.05,.2,.35],[.04,.04,.04],**styles[i])\n",
    "    ax.set_xlim(0,.4)\n",
    "    plt.axis('off')\n",
    "\n",
    "    plt.savefig(f'imgs/legend/l{i}.pdf')"
   ]
  },
  {
   "cell_type": "code",
   "execution_count": 36,
   "id": "8929a72a-dfd1-4cfc-937a-cc1d71b27baf",
   "metadata": {},
   "outputs": [
    {
     "data": {
      "image/png": "[encoded data removed]",
      "text/plain": [
       "<Figure size 40x8 with 1 Axes>"
      ]
     },
     "metadata": {},
     "output_type": "display_data"
    }
   ],
   "source": [
    "\n",
    "fig = plt.figure(figsize=(.4,.08))\n",
    "ax = fig.add_axes([.1,0,.8,1])\n",
    "\n",
    "#ax.hist([.05,.35],bins=[.05,.35],weights=[.1,.1],histtype='stepfilled',lw=.5,ec='black',fc='#dddddd',label='true DOS');\n",
    "ax.add_patch(Rectangle((.05,.1),.3,.8,lw=.5,ec='black',fc='#dddddd'))\n",
    "\n",
    "ax.set_xlim(0,.4)\n",
    "plt.axis('off')\n",
    "\n",
    "plt.savefig(f'imgs/legend/hist.pdf')"
   ]
  }
 ],
 "metadata": {
  "kernelspec": {
   "display_name": "Python 3 (ipykernel)",
   "language": "python",
   "name": "python3"
  },
  "language_info": {
   "codemirror_mode": {
    "name": "ipython",
    "version": 3
   },
   "file_extension": ".py",
   "mimetype": "text/x-python",
   "name": "python",
   "nbconvert_exporter": "python",
   "pygments_lexer": "ipython3",
   "version": "3.10.9"
  }
 },
 "nbformat": 4,
 "nbformat_minor": 5
}
