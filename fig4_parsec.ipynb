{
 "cells": [
  {
   "cell_type": "code",
   "execution_count": 1,
   "id": "f5b53893-d38c-44e4-9049-390137fbc93a",
   "metadata": {
    "execution": {
     "iopub.execute_input": "2023-08-29T04:48:29.728880Z",
     "iopub.status.busy": "2023-08-29T04:48:29.728651Z",
     "iopub.status.idle": "2023-08-29T04:48:30.080640Z",
     "shell.execute_reply": "2023-08-29T04:48:30.080076Z"
    }
   },
   "outputs": [],
   "source": [
    "import numpy as np\n",
    "import scipy as sp\n",
    "from scipy import io,integrate,sparse\n",
    "import matplotlib.pyplot as plt\n",
    "import matplotlib as mpl\n",
    "from matplotlib.lines import Line2D\n",
    "import matplotlib.patches as mpatches\n",
    "from mpl_toolkits.axes_grid1.inset_locator import inset_axes\n",
    "from mpl_toolkits.axes_grid1.inset_locator import mark_inset\n",
    "\n",
    "from kpm_bin import *\n",
    "\n",
    "from IPython.display import clear_output\n",
    "np.set_printoptions(linewidth=300)\n",
    "%load_ext autoreload\n",
    "\n",
    "%autoreload 2\n",
    "\n",
    "## TeX preamble\n",
    "preamble = r\"\"\"\n",
    "\\usepackage[no-math]{fontspec}\n",
    "\\setmainfont[]{Helvetica Condensed}\n",
    "\n",
    "\\usepackage{amsmath,amssymb,amsthm}\n",
    "\\usepackage{mathastext}\n",
    "\"\"\"\n",
    "\n",
    "mpl.use(\"pgf\")\n",
    "\n",
    "mpl.rcParams.update({\n",
    "    \"pgf.texsystem\": \"lualatex\",\n",
    "    'font.family': 'serif',\n",
    "    'font.size' : 8,\n",
    "    'text.usetex': True,\n",
    "    'pgf.rcfonts': False,\n",
    "    'pgf.preamble': preamble,\n",
    "})"
   ]
  },
  {
   "cell_type": "code",
   "execution_count": 2,
   "id": "647d7a39-a95a-46ab-a6e8-409e76da483e",
   "metadata": {
    "execution": {
     "iopub.execute_input": "2023-08-29T04:48:30.082810Z",
     "iopub.status.busy": "2023-08-29T04:48:30.082592Z",
     "iopub.status.idle": "2023-08-29T04:48:38.786508Z",
     "shell.execute_reply": "2023-08-29T04:48:38.785801Z"
    }
   },
   "outputs": [],
   "source": [
    "H = sp.io.mmread('matrices/Ga41As41H72.mtx')\n",
    "H.tocsr()\n",
    "\n",
    "d = H.shape[0]"
   ]
  },
  {
   "cell_type": "code",
   "execution_count": 3,
   "id": "290336cb-84d8-44cb-919e-9f2784a52fca",
   "metadata": {
    "execution": {
     "iopub.execute_input": "2023-08-29T04:48:38.789367Z",
     "iopub.status.busy": "2023-08-29T04:48:38.789217Z",
     "iopub.status.idle": "2023-08-29T04:49:01.614839Z",
     "shell.execute_reply": "2023-08-29T04:49:01.614226Z"
    }
   },
   "outputs": [
    {
     "name": "stdout",
     "output_type": "stream",
     "text": [
      "CPU times: user 1min 29s, sys: 712 ms, total: 1min 30s\n",
      "Wall time: 22.8 s\n"
     ]
    }
   ],
   "source": [
    "%%time\n",
    "Emin_true = sp.sparse.linalg.eigsh(H,k=1,which='SA',tol=1e-3,ncv=100,return_eigenvectors=False)[0]\n",
    "Emax_true = sp.sparse.linalg.eigsh(H,k=1,which='LA',tol=1e-3,ncv=100,return_eigenvectors=False)[0]"
   ]
  },
  {
   "cell_type": "code",
   "execution_count": 4,
   "id": "957a24de-6bff-4e86-8681-ceee47cf4847",
   "metadata": {
    "execution": {
     "iopub.execute_input": "2023-08-29T04:49:01.617665Z",
     "iopub.status.busy": "2023-08-29T04:49:01.617362Z",
     "iopub.status.idle": "2023-08-29T04:49:01.632070Z",
     "shell.execute_reply": "2023-08-29T04:49:01.631367Z"
    }
   },
   "outputs": [
    {
     "data": {
      "text/plain": [
       "(-1.2502010779156862, 1300.9339157082688)"
      ]
     },
     "execution_count": 4,
     "metadata": {},
     "output_type": "execute_result"
    }
   ],
   "source": [
    "Emin_true,Emax_true"
   ]
  },
  {
   "cell_type": "code",
   "execution_count": 5,
   "id": "047b3d6e-478f-4177-87dd-3bb223092487",
   "metadata": {
    "execution": {
     "iopub.execute_input": "2023-08-29T04:49:01.634553Z",
     "iopub.status.busy": "2023-08-29T04:49:01.634317Z",
     "iopub.status.idle": "2023-08-29T04:50:58.843103Z",
     "shell.execute_reply": "2023-08-29T04:50:58.842593Z"
    }
   },
   "outputs": [
    {
     "name": "stdout",
     "output_type": "stream",
     "text": [
      "random sample 9\n"
     ]
    }
   ],
   "source": [
    "m = 10\n",
    "k = 400\n",
    "np.random.seed(0)\n",
    "\n",
    "Rvs = []\n",
    "Rws = []\n",
    "αβs = []\n",
    "for _ in range(m):\n",
    "    print(f'random sample {_}')\n",
    "    clear_output(wait=True)\n",
    "\n",
    "    v = np.random.randn(d)\n",
    "    v /= np.linalg.norm(v)\n",
    "\n",
    "    (α,β) = lanczos(H,v,k)\n",
    "    αβs.append((α,β))\n",
    "\n",
    "    Hk = np.diag(β,1) + np.diag(β,-1) + np.diag(np.append(α,0))\n",
    "\n",
    "    Rv,Rvec = np.linalg.eigh(Hk[:k,:k])\n",
    "    Rvs.append(Rv)\n",
    "    Rws.append(Rvec[0]**2)\n",
    "    \n",
    "Rvs = np.array(Rvs)\n",
    "Rws = np.array(Rws)"
   ]
  },
  {
   "cell_type": "code",
   "execution_count": 6,
   "id": "0b41efa4-d163-4a46-9c13-82c8a4f9e2f9",
   "metadata": {
    "execution": {
     "iopub.execute_input": "2023-08-29T04:50:58.845277Z",
     "iopub.status.busy": "2023-08-29T04:50:58.845087Z",
     "iopub.status.idle": "2023-08-29T04:50:58.855693Z",
     "shell.execute_reply": "2023-08-29T04:50:58.855302Z"
    }
   },
   "outputs": [],
   "source": [
    "# bins = np.hstack([[-.00001,.00001,800],np.linspace(intervals[-1][0],intervals[-1][1],65)])\n",
    "# plt.xlim(1298,1302)\n",
    "# plt.ylim(0,1e-3)\n",
    "# plt.hist(Rvs.flatten(),weights=Rws.flatten(),density=True,bins=bins);\n",
    "# plt.hist(np.hstack([np.zeros(d-123),Evs_top]),bins=bins,density=True,alpha=.5);\n"
   ]
  },
  {
   "cell_type": "code",
   "execution_count": 7,
   "id": "bbb7ef74-41bb-42ef-8614-bcc2d9a0a772",
   "metadata": {
    "execution": {
     "iopub.execute_input": "2023-08-29T04:50:58.857740Z",
     "iopub.status.busy": "2023-08-29T04:50:58.857585Z",
     "iopub.status.idle": "2023-08-29T04:50:58.867016Z",
     "shell.execute_reply": "2023-08-29T04:50:58.866654Z"
    }
   },
   "outputs": [],
   "source": [
    "Emin_true = np.min(Rvs,axis=0)[0]\n",
    "Emax_true = np.max(Rvs,axis=-1)[0]\n",
    "\n",
    "Er = np.max(Rvs[Rvs<1000])\n",
    "El = np.min(Rvs[Rvs>1000])"
   ]
  },
  {
   "cell_type": "code",
   "execution_count": 8,
   "id": "f20cbb03-a0ad-4bff-a1ce-999602455071",
   "metadata": {
    "execution": {
     "iopub.execute_input": "2023-08-29T04:50:58.869119Z",
     "iopub.status.busy": "2023-08-29T04:50:58.868795Z",
     "iopub.status.idle": "2023-08-29T04:51:33.987689Z",
     "shell.execute_reply": "2023-08-29T04:51:33.987175Z"
    }
   },
   "outputs": [],
   "source": [
    "Evs_top = sp.sparse.linalg.eigsh(H,k=123,which='LA',tol=1e-4,ncv=330,return_eigenvectors=False)"
   ]
  },
  {
   "cell_type": "code",
   "execution_count": 9,
   "id": "f0855172-ab8d-439a-9250-c94ef57a7662",
   "metadata": {
    "execution": {
     "iopub.execute_input": "2023-08-29T04:51:33.990567Z",
     "iopub.status.busy": "2023-08-29T04:51:33.990036Z",
     "iopub.status.idle": "2023-08-29T04:51:34.003435Z",
     "shell.execute_reply": "2023-08-29T04:51:34.002851Z"
    }
   },
   "outputs": [],
   "source": [
    "intervals_raw = np.array([[Emin_true,Er],[El,Emax_true]])"
   ]
  },
  {
   "cell_type": "code",
   "execution_count": 10,
   "id": "d5afd45d-3032-45d4-a128-ef176a18e15b",
   "metadata": {
    "execution": {
     "iopub.execute_input": "2023-08-29T04:51:34.005996Z",
     "iopub.status.busy": "2023-08-29T04:51:34.005751Z",
     "iopub.status.idle": "2023-08-29T04:51:43.272665Z",
     "shell.execute_reply": "2023-08-29T04:51:43.272276Z"
    }
   },
   "outputs": [],
   "source": [
    "methods = ['T','Thd','Uspike']\n",
    "\n",
    "k_eff = min(200,2*k)\n",
    "\n",
    "ϵs = [0]\n",
    "\n",
    "ϵ = 1e-4\n",
    "Emin = Emin_true - ϵ*(Emax_true - Emin_true)\n",
    "Emax = Emax_true + ϵ*(Emax_true - Emin_true)\n",
    "\n",
    "EE = np.linspace(-10,90,1000)\n",
    "EE = np.hstack([EE,np.linspace(1298,1302,500)])\n",
    "EE = np.sort(EE)\n",
    "\n",
    "fig,axs = plt.subplots(2,1,figsize=(6,6))\n",
    "plt.subplots_adjust(hspace=.3,bottom=.12,top=.95)\n",
    "# fig,axs = plt.subplots(1,2,figsize=(12,4))\n",
    "# plt.subplots_adjust(wspace=.3)\n",
    "\n",
    "# axs[1] = inset_axes(axs, \"100%\",\"100%\", loc='upper left', bbox_to_anchor=(0.45,.35,.5,.6), bbox_transform=axs.transAxes) # zoom = 6\n",
    "# axs[1].plot()\n",
    "\n",
    "\n",
    "for i,method in enumerate(methods):\n",
    "    \n",
    "    for ϵ in ϵs:\n",
    "        Emin = Emin_true - ϵ*(Emax_true - Emin_true)\n",
    "        Emax = Emax_true + ϵ*(Emax_true - Emin_true)\n",
    "    \n",
    "        μs = []\n",
    "    \n",
    "        if method == 'Uspike':\n",
    "            ϵl = ϵ\n",
    "            ϵr = .1\n",
    "            intervals = np.array([[Emin_true-ϵl*(Er-Emin_true),Er+ϵl*(Er-Emin_true)],\\\n",
    "                                  [El-ϵr*(Emax_true-El),Emax_true+ϵr*(Emax_true-El)]])\n",
    "\n",
    "            αβ0s = [get_chebT_recurrence(2*k,int[0],int[1]) for int in intervals]\n",
    "\n",
    "            wl = .95\n",
    "            wr = 1-wl\n",
    "            weights = [wl,wr]\n",
    "            \n",
    "            (γ,δ) = get_multiint_op_recurrence(αβ0s,weights,2*k)\n",
    "            σ = lambda x: wl*get_chebT_density(*intervals[0])(x) + wr*get_chebT_density(*intervals[1])(x)\n",
    "\n",
    "          \n",
    "        elif method =='T' or method == 'Thd':\n",
    "            (γ,δ) = get_chebT_recurrence(2*k,Emin,Emax)\n",
    "            σ = get_chebT_density(Emin,Emax)\n",
    "        \n",
    "        for (α,β) in αβs:\n",
    "    \n",
    "            Hk = np.diag(β,1) + np.diag(β,-1) + np.diag(np.append(α,0))\n",
    "            e0 = np.zeros(k+1)\n",
    "            e0[0] = 1\n",
    "        \n",
    "            μ = get_moments(Hk,e0,2*k,γ,δ)\n",
    "    \n",
    "            μs.append(μ)\n",
    "\n",
    "\n",
    "        k_eff_loc = k_eff\n",
    "        if method == 'Thd':\n",
    "            k_eff_loc = 800\n",
    "        g = np.ones(k_eff_loc)\n",
    "        # if method == 'T' or method == 'Thd':\n",
    "        #     g = jackson_weights(k_eff_loc)\n",
    "        \n",
    "        dρdσ = get_op_expansion(g*np.mean(μs,axis=0)[:k_eff_loc],γ,δ)\n",
    "        ρ_KPM = lambda E: σ(E)*dρdσ(E)\n",
    "\n",
    "        styles = [{'color':plt.cm.magma(.85),'lw':1,'alpha':1},\\\n",
    "                  {'color':plt.cm.magma(.5),'lw':1,'alpha':1},\\\n",
    "                  {'color':plt.cm.magma(.12),'lw':1,'alpha':1}]\n",
    "\n",
    "        axs[0].plot(EE,ρ_KPM(EE),**styles[i])\n",
    "        kernel = np.exp(-np.linspace(-1,1,10)**2)\n",
    "        kernel /= np.sum(kernel)\n",
    "        axs[1].plot(EE,np.convolve(ρ_KPM(EE),kernel,mode='same'),**styles[i])\n",
    "\n",
    "bins = np.linspace(1299,1301,40)\n",
    "weights = np.ones(123)/(d*(bins[-1]-bins[-2]))\n",
    "axs[1].hist(Evs_top,bins=bins,weights=weights,histtype='stepfilled',lw=.5,ec='black',fc='#dddddd')\n",
    "#axs[1].hist(np.hstack([1297*np.ones(d-123),Evs_top]),bins=bins,density=True,histtype='stepfilled',lw=.5,ec='black',fc='#dddddd')\n",
    "#axs[1].hist(np.hstack([np.zeros(d-123),Evs_top]),bins=bins,density=True,histtype='bar',fc='#dddddd')\n",
    "\n",
    "axs[0].set_ylim(-.001,.04)\n",
    "axs[0].set_xlim(-10,80)\n",
    "\n",
    "# # sub region of the original image\n",
    "x1, x2, y1, y2 = 1299,1301,-2e-4,1.5e-3\n",
    "axs[1].set_xlim(x1, x2)\n",
    "axs[1].set_ylim(y1, y2)\n",
    "# axs[1].set_xticks([x1,x2])\n",
    "# axs[1].set_yticks([y1,y2])\n",
    "\n",
    "\n",
    "for ax in axs:\n",
    "    ax.set_xlabel('energy \\emph{E}')\n",
    "    ax.set_ylabel('density of states')\n",
    "\n",
    "plt.savefig('imgs/parsec.pdf')"
   ]
  },
  {
   "cell_type": "code",
   "execution_count": null,
   "id": "e8ad4c0c-ce8c-4166-a04d-5bb5e4714a4e",
   "metadata": {},
   "outputs": [],
   "source": []
  }
 ],
 "metadata": {
  "kernelspec": {
   "display_name": "Python 3 (ipykernel)",
   "language": "python",
   "name": "python3"
  },
  "language_info": {
   "codemirror_mode": {
    "name": "ipython",
    "version": 3
   },
   "file_extension": ".py",
   "mimetype": "text/x-python",
   "name": "python",
   "nbconvert_exporter": "python",
   "pygments_lexer": "ipython3",
   "version": "3.10.9"
  }
 },
 "nbformat": 4,
 "nbformat_minor": 5
}
