{
 "cells": [
  {
   "cell_type": "code",
   "execution_count": 1,
   "id": "2fc7a35e-0a12-4b2e-9747-2b411c80842d",
   "metadata": {
    "execution": {
     "iopub.execute_input": "2023-08-29T04:46:35.326839Z",
     "iopub.status.busy": "2023-08-29T04:46:35.326313Z",
     "iopub.status.idle": "2023-08-29T04:46:35.681368Z",
     "shell.execute_reply": "2023-08-29T04:46:35.680723Z"
    }
   },
   "outputs": [],
   "source": [
    "import numpy as np\n",
    "import scipy as sp\n",
    "from scipy import io,integrate,sparse\n",
    "import matplotlib.pyplot as plt\n",
    "import matplotlib as mpl\n",
    "from matplotlib.lines import Line2D\n",
    "import matplotlib.patches as mpatches\n",
    "from mpl_toolkits.axes_grid1.inset_locator import inset_axes\n",
    "from mpl_toolkits.axes_grid1.inset_locator import mark_inset\n",
    "\n",
    "from kpm_bin import *\n",
    "\n",
    "from IPython.display import clear_output\n",
    "np.set_printoptions(linewidth=300)\n",
    "%load_ext autoreload\n",
    "\n",
    "%autoreload 2\n",
    "\n",
    "## TeX preamble\n",
    "preamble = r\"\"\"\n",
    "\\usepackage[no-math]{fontspec}\n",
    "\\setmainfont[]{Helvetica Condensed}\n",
    "\n",
    "\\usepackage{amsmath,amssymb,amsthm}\n",
    "\\usepackage{mathastext}\n",
    "\"\"\"\n",
    "\n",
    "mpl.use(\"pgf\")\n",
    "\n",
    "mpl.rcParams.update({\n",
    "    \"pgf.texsystem\": \"lualatex\",\n",
    "    'font.family': 'serif',\n",
    "    'font.size' : 8,\n",
    "    'text.usetex': True,\n",
    "    'pgf.rcfonts': False,\n",
    "    'pgf.preamble': preamble,\n",
    "})"
   ]
  },
  {
   "cell_type": "code",
   "execution_count": 2,
   "id": "6f69baf1-2b76-4ffe-9917-49103e028052",
   "metadata": {
    "execution": {
     "iopub.execute_input": "2023-08-29T04:46:35.684037Z",
     "iopub.status.busy": "2023-08-29T04:46:35.683858Z",
     "iopub.status.idle": "2023-08-29T04:47:57.528870Z",
     "shell.execute_reply": "2023-08-29T04:47:57.528499Z"
    }
   },
   "outputs": [],
   "source": [
    "import kwant\n",
    "from matplotlib import pyplot\n",
    "\n",
    "lat = kwant.lattice.general([(0, 0.5, 0.5), (0.5, 0, 0.5), (0.5, 0.5, 0)],\n",
    "                            [(0, 0, 0), (0.25, 0.25, 0.25)])\n",
    "a, b = lat.sublattices\n",
    "\n",
    "def make_cuboid(a=15, b=10, c=5):\n",
    "    t = 1\n",
    "    def cuboid_shape(pos):\n",
    "        x, y, z = pos\n",
    "        return 0 <= x < a and 0 <= y < b and 0 <= z < c\n",
    "\n",
    "    syst = kwant.Builder()\n",
    "    syst[lat.shape(cuboid_shape, (0, 0, 0))] = 0\n",
    "    syst[lat.neighbors()] = 1\n",
    "\n",
    "    return syst\n",
    "\n",
    "\n",
    "# the standard plotting style for 3D is mainly useful for\n",
    "# checking shapes:\n",
    "syst = make_cuboid(a=35,b=20,c=10)\n",
    "fsyst = syst.finalized()\n",
    "\n",
    "fig,ax = plt.subplots(1,1,figsize=(7,7),subplot_kw={'projection':'3d'})\n",
    "\n",
    "def family_color(site):\n",
    "    return plt.cm.magma(.2) if site.family == a else plt.cm.magma(.5)\n",
    "    \n",
    "kwant.plot(syst,site_color=family_color,ax=ax,dpi=600);\n",
    "ax.set_axis_off()\n",
    "ax.pbaspect = [2.0, 0.6, 0.25]\n",
    "\n",
    "plt.savefig('imgs/graphene_shape.png',dpi=600)"
   ]
  },
  {
   "cell_type": "code",
   "execution_count": 3,
   "id": "3d978e8e-ede0-442c-b59d-6d85d8254702",
   "metadata": {
    "execution": {
     "iopub.execute_input": "2023-08-29T04:47:57.531599Z",
     "iopub.status.busy": "2023-08-29T04:47:57.531378Z",
     "iopub.status.idle": "2023-08-29T04:47:57.713895Z",
     "shell.execute_reply": "2023-08-29T04:47:57.713183Z"
    }
   },
   "outputs": [],
   "source": [
    "H = fsyst.hamiltonian_submatrix(sparse=True)\n",
    "d = H.shape[0]"
   ]
  },
  {
   "cell_type": "code",
   "execution_count": 4,
   "id": "b4dd05f6-a694-4e4d-82ec-bc7b32f388ed",
   "metadata": {
    "execution": {
     "iopub.execute_input": "2023-08-29T04:47:57.716476Z",
     "iopub.status.busy": "2023-08-29T04:47:57.716205Z",
     "iopub.status.idle": "2023-08-29T04:48:02.318161Z",
     "shell.execute_reply": "2023-08-29T04:48:02.317750Z"
    }
   },
   "outputs": [
    {
     "name": "stdout",
     "output_type": "stream",
     "text": [
      "random sample 9\n"
     ]
    }
   ],
   "source": [
    "m = 10\n",
    "k = 500\n",
    "np.random.seed(0)\n",
    "\n",
    "Rvs = []\n",
    "Rws = []\n",
    "αβs = []\n",
    "for _ in range(m):\n",
    "    print(f'random sample {_}')\n",
    "    clear_output(wait=True)\n",
    "\n",
    "    v = np.random.randn(d)\n",
    "    v /= np.linalg.norm(v)\n",
    "\n",
    "    (α,β) = lanczos(H,v,k)\n",
    "    αβs.append((α,β))\n",
    "\n",
    "    Hk = np.diag(β,1) + np.diag(β,-1) + np.diag(np.append(α,0))\n",
    "\n",
    "    Rv,Rvec = np.linalg.eigh(Hk[:k,:k])\n",
    "    Rvs.append(Rv)\n",
    "    Rws.append(Rvec[0]**2)\n",
    "    \n",
    "Rvs = np.array(Rvs)\n",
    "Rws = np.array(Rws)"
   ]
  },
  {
   "cell_type": "code",
   "execution_count": 5,
   "id": "64b24fd8-d46d-4a56-a5e9-976afa94f911",
   "metadata": {
    "execution": {
     "iopub.execute_input": "2023-08-29T04:48:02.320354Z",
     "iopub.status.busy": "2023-08-29T04:48:02.320217Z",
     "iopub.status.idle": "2023-08-29T04:48:06.197694Z",
     "shell.execute_reply": "2023-08-29T04:48:06.197232Z"
    }
   },
   "outputs": [
    {
     "name": "stdout",
     "output_type": "stream",
     "text": [
      "48 ms ± 4.48 ms per loop (mean ± std. dev. of 7 runs, 10 loops each)\n"
     ]
    }
   ],
   "source": [
    "%%timeit\n",
    "sp.sparse.linalg.eigsh(H,k=1,which='LA',tol=0.02,return_eigenvectors=False)"
   ]
  },
  {
   "cell_type": "code",
   "execution_count": 6,
   "id": "3c9e17c6-1f08-4f18-a635-979cf04224ea",
   "metadata": {
    "execution": {
     "iopub.execute_input": "2023-08-29T04:48:06.199390Z",
     "iopub.status.busy": "2023-08-29T04:48:06.199236Z",
     "iopub.status.idle": "2023-08-29T04:48:18.364511Z",
     "shell.execute_reply": "2023-08-29T04:48:18.364120Z"
    }
   },
   "outputs": [
    {
     "name": "stdout",
     "output_type": "stream",
     "text": [
      "152 ms ± 24.9 ms per loop (mean ± std. dev. of 7 runs, 10 loops each)\n"
     ]
    }
   ],
   "source": [
    "%%timeit\n",
    "(α,β) = lanczos(H,v,120)"
   ]
  },
  {
   "cell_type": "code",
   "execution_count": 7,
   "id": "28ce9026-6a93-4f30-af73-f09fdbbc0ba0",
   "metadata": {
    "execution": {
     "iopub.execute_input": "2023-08-29T04:48:18.366371Z",
     "iopub.status.busy": "2023-08-29T04:48:18.366210Z",
     "iopub.status.idle": "2023-08-29T04:48:18.375955Z",
     "shell.execute_reply": "2023-08-29T04:48:18.375564Z"
    }
   },
   "outputs": [],
   "source": [
    "Emin_true = np.min(Rvs,axis=0)[0]\n",
    "Emax_true = np.max(Rvs,axis=-1)[0]"
   ]
  },
  {
   "cell_type": "code",
   "execution_count": 8,
   "id": "7de47734-af9d-41dd-8226-4b360052552a",
   "metadata": {
    "execution": {
     "iopub.execute_input": "2023-08-29T04:48:18.377808Z",
     "iopub.status.busy": "2023-08-29T04:48:18.377618Z",
     "iopub.status.idle": "2023-08-29T04:48:25.687059Z",
     "shell.execute_reply": "2023-08-29T04:48:25.686580Z"
    }
   },
   "outputs": [
    {
     "name": "stderr",
     "output_type": "stream",
     "text": [
      "/home/tyler/Documents/Research Code/spectrum_adaptive_kpm/kpm_bin/kpm.py:56: ComplexWarning: Casting complex values to real discards the imaginary part\n",
      "  μ[i+1] = v.T@q\n"
     ]
    }
   ],
   "source": [
    "methods = ['T','Thd','Tspike']\n",
    "\n",
    "k_eff = min(240,2*k)\n",
    "\n",
    "ϵs = [1e-1]\n",
    "\n",
    "ϵ = .015\n",
    "Emin = Emin_true - ϵ*(Emax_true - Emin_true)\n",
    "Emax = Emax_true + ϵ*(Emax_true - Emin_true)\n",
    "\n",
    "EE = np.linspace(Emin,Emax,500)\n",
    "EE = np.hstack([EE,np.linspace(-1e-2,+1e-2,100)])\n",
    "EE = np.sort(EE)\n",
    "    \n",
    "\n",
    "\n",
    "fig,axs = plt.subplots(1,1,figsize=(6,3))\n",
    "plt.subplots_adjust(bottom=.18,top=.9)\n",
    "axs = [axs]\n",
    "\n",
    "for i,method in enumerate(methods):\n",
    "    \n",
    "    for ϵ in ϵs:\n",
    "        Emin = Emin_true - ϵ*(Emax_true - Emin_true)\n",
    "        Emax = Emax_true + ϵ*(Emax_true - Emin_true)\n",
    "    \n",
    "        μs = []\n",
    "    \n",
    "        if method == 'Tspike':\n",
    "            w = 1e-2\n",
    "            Esl,Esr = -w,+w\n",
    "            Er = max(Rvs[Rvs < -w])\n",
    "            El = min(Rvs[Rvs > +w])\n",
    "            intervals = np.array([[Esl,Esr],\\\n",
    "                                  [Emin_true - ϵ*(Er - Emin_true),Emax_true + ϵ*(Emax_true - El)]])\n",
    "\n",
    "            αβ0s = [get_chebT_recurrence(2*k,int[0],int[1]) for int in intervals]\n",
    "\n",
    "            ws = .05\n",
    "            wb = (1-ws)\n",
    "            weights = [ws,wb]\n",
    "            \n",
    "            (γ,δ) = get_multiint_op_recurrence(αβ0s,weights,2*k)\n",
    "            σ = lambda x: ws*get_chebT_density(*intervals[0])(x) + wb*get_chebT_density(*intervals[1])(x)\n",
    "\n",
    "        elif method =='T' or method == 'Thd':\n",
    "            (γ,δ) = get_chebT_recurrence(2*k,Emin,Emax)\n",
    "            σ = get_chebT_density(Emin,Emax)\n",
    "        \n",
    "        for (α,β) in αβs:\n",
    "    \n",
    "            Hk = np.diag(β,1) + np.diag(β,-1) + np.diag(np.append(α,0))\n",
    "            e0 = np.zeros(k+1)\n",
    "            e0[0] = 1\n",
    "        \n",
    "            μ = get_moments(Hk,e0,2*k,γ,δ)\n",
    "    \n",
    "            μs.append(μ)\n",
    "\n",
    "        k_eff_loc = k_eff\n",
    "        k_eff_loc = k_eff\n",
    "        if method == 'Thd':\n",
    "            k_eff_loc = 800\n",
    "            \n",
    "        g = np.ones(k_eff_loc)\n",
    "        if method =='T' or method == 'Thd':\n",
    "            g = jackson_weights(k_eff_loc)\n",
    "\n",
    "        dρdσ = get_op_expansion(g*np.mean(μs,axis=0)[:k_eff_loc],γ,δ)\n",
    "        ρ_KPM = lambda E: σ(E)*dρdσ(E)\n",
    "\n",
    "        \n",
    "    styles = [{'color':plt.cm.magma(.85),'lw':1,'alpha':1},\\\n",
    "              {'color':plt.cm.magma(.5),'lw':1,'alpha':1},\\\n",
    "              {'color':plt.cm.magma(.12),'lw':1}]\n",
    "\n",
    "    axs[0].plot(EE,ρ_KPM(EE),**styles[i],label=rf'$\\epsilon={ϵ}$')\n",
    "\n",
    "axs[0].set_ylim(-.01,.3)\n",
    "axs[0].set_xlabel('energy \\emph{E}')\n",
    "axs[0].set_ylabel('density of states')\n",
    "\n",
    "def family_colors(site):\n",
    "    return 0 if site.family == a else 1    \n",
    "\n",
    "# with PIL.Image.open(r\"imgs/graphene_shape.png\") as im:\n",
    "#     axs[1].imshow(im.crop((900,1340,3500,2750)))\n",
    "\n",
    "# axs[1].set_axis_off()\n",
    "\n",
    "plt.savefig('imgs/graphene.pdf')"
   ]
  }
 ],
 "metadata": {
  "kernelspec": {
   "display_name": "Python 3 (ipykernel)",
   "language": "python",
   "name": "python3"
  },
  "language_info": {
   "codemirror_mode": {
    "name": "ipython",
    "version": 3
   },
   "file_extension": ".py",
   "mimetype": "text/x-python",
   "name": "python",
   "nbconvert_exporter": "python",
   "pygments_lexer": "ipython3",
   "version": "3.10.9"
  }
 },
 "nbformat": 4,
 "nbformat_minor": 5
}
